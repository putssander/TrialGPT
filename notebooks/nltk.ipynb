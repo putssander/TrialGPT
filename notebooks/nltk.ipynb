{
 "cells": [
  {
   "cell_type": "code",
   "execution_count": null,
   "id": "fa8b15ff-3ac2-478e-99a0-490eb8bd7e59",
   "metadata": {},
   "outputs": [],
   "source": [
    "import nltk\n",
    "nltk.download('punkt_tab')"
   ]
  },
  {
   "cell_type": "code",
   "execution_count": null,
   "id": "4c01b967-6acd-4fa0-abe6-268043a6aa2b",
   "metadata": {},
   "outputs": [],
   "source": [
    "import shutil\n",
    "dir_name = \"/work/ml/TrialGPT/dataset/mstr\"\n",
    "output_filename = \"/work/ml/TrialGPT/dataset/mstr\"\n",
    "shutil.make_archive(output_filename, 'zip', dir_name)"
   ]
  },
  {
   "cell_type": "code",
   "execution_count": null,
   "id": "0f2e59d4-6606-49df-a5f5-bcf564563beb",
   "metadata": {},
   "outputs": [],
   "source": [
    "shutil.unpack_archive(output_filename, output_filename, 'zip')"
   ]
  }
 ],
 "metadata": {
  "kernelspec": {
   "display_name": "Python 3 ",
   "language": "python",
   "name": "python3"
  },
  "language_info": {
   "codemirror_mode": {
    "name": "ipython",
    "version": 3
   },
   "file_extension": ".py",
   "mimetype": "text/x-python",
   "name": "python",
   "nbconvert_exporter": "python",
   "pygments_lexer": "ipython3",
   "version": "3.12.8"
  }
 },
 "nbformat": 4,
 "nbformat_minor": 5
}
