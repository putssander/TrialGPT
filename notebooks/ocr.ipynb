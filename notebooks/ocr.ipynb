{
 "cells": [
  {
   "cell_type": "code",
   "execution_count": null,
   "id": "d76fa41d-cdfc-42ef-87fa-9c7a7e284153",
   "metadata": {},
   "outputs": [],
   "source": [
    "sudo apt update\n",
    "sudo apt install -y tesseract-ocr"
   ]
  },
  {
   "cell_type": "code",
   "execution_count": null,
   "id": "091d5e05-c5c6-4122-b594-0cb8f23ed405",
   "metadata": {},
   "outputs": [],
   "source": [
    "pip install ocrmypdf"
   ]
  },
  {
   "cell_type": "code",
   "execution_count": null,
   "id": "10f3c389-de8a-4b70-a8b8-6cf866556a0a",
   "metadata": {},
   "outputs": [],
   "source": [
    "!pip install pymupdf"
   ]
  },
  {
   "cell_type": "code",
   "execution_count": null,
   "id": "550f32bb-4b29-4018-99ea-866a0bb23e3d",
   "metadata": {},
   "outputs": [],
   "source": [
    "import ocrmypdf\n",
    "import os\n",
    "\n",
    "\n",
    "# Directory path\n",
    "directory = \"/work/ml/TrialGPT/dataset/mstr/docs241205/\"\n",
    "\n",
    "# List only PDF files\n",
    "pdf_files = [f for f in os.listdir(directory) if f.endswith(\".pdf\")]\n",
    "\n",
    "print(\"PDF files:\", pdf_files)\n",
    "\n",
    "\n",
    "# Define the input and output PDF file paths\n",
    "\n",
    "for file in pdf_files:\n",
    "    \n",
    "    if \"searchable\" in file:\n",
    "        continue\n",
    "    \n",
    "    input_pdf = directory + file\n",
    "    output_pdf = input_pdf.replace(\".pdf\", \"_searchable.pdf\")  # Replace with your desired output file name\n",
    "    \n",
    "    try:\n",
    "        # Perform OCR on the input PDF and save the searchable version\n",
    "        ocrmypdf.ocr(input_pdf, output_pdf, deskew=True, force_ocr=True)\n",
    "        print(f\"OCR completed successfully. Searchable PDF saved as '{output_pdf}'\")\n",
    "    except Exception as e:\n",
    "        print(f\"An error occurred during OCR: {e}\")\n"
   ]
  },
  {
   "cell_type": "code",
   "execution_count": null,
   "id": "52ab5f85-6e7c-4165-ac21-ab9cd0ae7667",
   "metadata": {},
   "outputs": [],
   "source": [
    "import os\n",
    "import fitz  # PyMuPDF\n",
    "import json\n",
    "\n",
    "def extract_text_from_pdf(pdf_path):\n",
    "    doc = fitz.open(pdf_path)\n",
    "    extracted_text = []\n",
    "\n",
    "    for page_num in range(len(doc)):\n",
    "        text = doc[page_num].get_text(\"text\")  # Extract text\n",
    "        extracted_text.append(text)\n",
    "        print(f\"Extracted text from page {page_num + 1}\")\n",
    "\n",
    "    return \"\\n\".join(extracted_text)\n",
    "\n",
    "# Define the input and output PDF file paths\n",
    "def extract_text(directory, jsonl_file):\n",
    "\n",
    "    # List only PDF files\n",
    "    pdf_files = [f for f in os.listdir(directory) if f.endswith(\".pdf\")]\n",
    "\n",
    "    print(\"PDF files:\", pdf_files)\n",
    "    for file in pdf_files:    \n",
    "        input_pdf = directory + file\n",
    "        text = extract_text_from_pdf(input_pdf)\n",
    "        json_entry = {\"_id\": file, \"text\": text}\n",
    "    \n",
    "        # Append to JSONL file\n",
    "        with open(jsonl_file, \"a\", encoding=\"utf-8\") as f:\n",
    "            f.write(json.dumps(json_entry, ensure_ascii=False) + \"\\n\")\n",
    "    \n",
    "        print(f\"Processed {input_pdf} and saved to {jsonl_file}\")\n",
    "\n",
    "\n",
    "directory = \"/work/ml/TrialGPT/dataset/mstr/docs241205/searchable/\"\n",
    "jsonl_file = \"/work/ml/TrialGPT/dataset/mstr/docs241205/queries.jsonl\"\n",
    "extract_text(directory, jsonl_file)"
   ]
  },
  {
   "cell_type": "code",
   "execution_count": null,
   "id": "3fa39e8f-913e-4e2f-9b43-813e893c8075",
   "metadata": {},
   "outputs": [],
   "source": []
  }
 ],
 "metadata": {
  "kernelspec": {
   "display_name": "Python 3 ",
   "language": "python",
   "name": "python3"
  },
  "language_info": {
   "codemirror_mode": {
    "name": "ipython",
    "version": 3
   },
   "file_extension": ".py",
   "mimetype": "text/x-python",
   "name": "python",
   "nbconvert_exporter": "python",
   "pygments_lexer": "ipython3",
   "version": "3.12.8"
  }
 },
 "nbformat": 4,
 "nbformat_minor": 5
}
